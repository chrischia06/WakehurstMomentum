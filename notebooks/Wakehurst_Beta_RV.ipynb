{
 "cells": [
  {
   "cell_type": "code",
   "execution_count": 1,
   "metadata": {},
   "outputs": [
    {
     "name": "stderr",
     "output_type": "stream",
     "text": [
      "pandas.util.testing is deprecated. Use the functions in the public API at pandas.testing instead.\n"
     ]
    }
   ],
   "source": [
    "#relative imports\n",
    "import os, sys\n",
    "module_path = os.path.abspath(os.path.join('..'))\n",
    "if module_path not in sys.path:\n",
    "    sys.path.append(module_path)\n",
    "\n",
    "#momentum lib\n",
    "from MomentumLibrary import *\n",
    "\n",
    "#plotting\n",
    "%matplotlib inline\n",
    "sns.set()\n",
    "\n",
    "from statsmodels.regression.linear_model import OLS\n",
    "from statsmodels.tools import add_constant"
   ]
  },
  {
   "cell_type": "markdown",
   "metadata": {},
   "source": [
    "# General Strat\n",
    "1. Fit a regression of asset on some explantory variable(s)\n",
    "2. Determine if the asset is over/underprice relative to the historical relationship between the asset and the explantory variable"
   ]
  },
  {
   "cell_type": "markdown",
   "metadata": {},
   "source": [
    "**Read in your asset price time series dataset**\n",
    "\n",
    "In this case use the Brent Oil Futures"
   ]
  },
  {
   "cell_type": "code",
   "execution_count": 21,
   "metadata": {},
   "outputs": [
    {
     "name": "stdout",
     "output_type": "stream",
     "text": [
      "ADDED FEATURES - COMPLETE\n",
      "--------------------\n"
     ]
    },
    {
     "data": {
      "text/html": [
       "<div>\n",
       "<style scoped>\n",
       "    .dataframe tbody tr th:only-of-type {\n",
       "        vertical-align: middle;\n",
       "    }\n",
       "\n",
       "    .dataframe tbody tr th {\n",
       "        vertical-align: top;\n",
       "    }\n",
       "\n",
       "    .dataframe thead th {\n",
       "        text-align: right;\n",
       "    }\n",
       "</style>\n",
       "<table border=\"1\" class=\"dataframe\">\n",
       "  <thead>\n",
       "    <tr style=\"text-align: right;\">\n",
       "      <th></th>\n",
       "      <th>Date</th>\n",
       "      <th>Price</th>\n",
       "      <th>Open</th>\n",
       "      <th>High</th>\n",
       "      <th>Low</th>\n",
       "      <th>Vol.</th>\n",
       "      <th>Change %</th>\n",
       "      <th>log_returns</th>\n",
       "      <th>IntradayRange</th>\n",
       "      <th>month_2</th>\n",
       "      <th>...</th>\n",
       "      <th>day_26</th>\n",
       "      <th>day_27</th>\n",
       "      <th>day_28</th>\n",
       "      <th>day_29</th>\n",
       "      <th>day_30</th>\n",
       "      <th>day_31</th>\n",
       "      <th>weekday_1</th>\n",
       "      <th>weekday_2</th>\n",
       "      <th>weekday_3</th>\n",
       "      <th>weekday_4</th>\n",
       "    </tr>\n",
       "  </thead>\n",
       "  <tbody>\n",
       "    <tr>\n",
       "      <th>1355</th>\n",
       "      <td>2020-04-03</td>\n",
       "      <td>3.529591</td>\n",
       "      <td>3.397524</td>\n",
       "      <td>3.555348</td>\n",
       "      <td>3.341093</td>\n",
       "      <td>541.28K</td>\n",
       "      <td>13.93%</td>\n",
       "      <td>0.130395</td>\n",
       "      <td>0.214255</td>\n",
       "      <td>0</td>\n",
       "      <td>...</td>\n",
       "      <td>0</td>\n",
       "      <td>0</td>\n",
       "      <td>0</td>\n",
       "      <td>0</td>\n",
       "      <td>0</td>\n",
       "      <td>0</td>\n",
       "      <td>0</td>\n",
       "      <td>0</td>\n",
       "      <td>0</td>\n",
       "      <td>1</td>\n",
       "    </tr>\n",
       "    <tr>\n",
       "      <th>1356</th>\n",
       "      <td>2020-04-06</td>\n",
       "      <td>3.498022</td>\n",
       "      <td>3.458208</td>\n",
       "      <td>3.533395</td>\n",
       "      <td>3.402197</td>\n",
       "      <td>296.07K</td>\n",
       "      <td>-3.11%</td>\n",
       "      <td>-0.031569</td>\n",
       "      <td>0.131198</td>\n",
       "      <td>0</td>\n",
       "      <td>...</td>\n",
       "      <td>0</td>\n",
       "      <td>0</td>\n",
       "      <td>0</td>\n",
       "      <td>0</td>\n",
       "      <td>0</td>\n",
       "      <td>0</td>\n",
       "      <td>0</td>\n",
       "      <td>0</td>\n",
       "      <td>0</td>\n",
       "      <td>0</td>\n",
       "    </tr>\n",
       "    <tr>\n",
       "      <th>1357</th>\n",
       "      <td>2020-04-07</td>\n",
       "      <td>3.461665</td>\n",
       "      <td>3.516310</td>\n",
       "      <td>3.531641</td>\n",
       "      <td>3.457578</td>\n",
       "      <td>303.42K</td>\n",
       "      <td>-3.57%</td>\n",
       "      <td>-0.036356</td>\n",
       "      <td>0.074063</td>\n",
       "      <td>0</td>\n",
       "      <td>...</td>\n",
       "      <td>0</td>\n",
       "      <td>0</td>\n",
       "      <td>0</td>\n",
       "      <td>0</td>\n",
       "      <td>0</td>\n",
       "      <td>0</td>\n",
       "      <td>1</td>\n",
       "      <td>0</td>\n",
       "      <td>0</td>\n",
       "      <td>0</td>\n",
       "    </tr>\n",
       "    <tr>\n",
       "      <th>1358</th>\n",
       "      <td>2020-04-08</td>\n",
       "      <td>3.491647</td>\n",
       "      <td>3.485232</td>\n",
       "      <td>3.522530</td>\n",
       "      <td>3.451257</td>\n",
       "      <td>320.61K</td>\n",
       "      <td>3.04%</td>\n",
       "      <td>0.029982</td>\n",
       "      <td>0.071273</td>\n",
       "      <td>0</td>\n",
       "      <td>...</td>\n",
       "      <td>0</td>\n",
       "      <td>0</td>\n",
       "      <td>0</td>\n",
       "      <td>0</td>\n",
       "      <td>0</td>\n",
       "      <td>0</td>\n",
       "      <td>0</td>\n",
       "      <td>1</td>\n",
       "      <td>0</td>\n",
       "      <td>0</td>\n",
       "    </tr>\n",
       "    <tr>\n",
       "      <th>1359</th>\n",
       "      <td>2020-04-09</td>\n",
       "      <td>3.460095</td>\n",
       "      <td>3.520461</td>\n",
       "      <td>3.594019</td>\n",
       "      <td>3.445533</td>\n",
       "      <td>-</td>\n",
       "      <td>-3.11%</td>\n",
       "      <td>-0.031552</td>\n",
       "      <td>0.148486</td>\n",
       "      <td>0</td>\n",
       "      <td>...</td>\n",
       "      <td>0</td>\n",
       "      <td>0</td>\n",
       "      <td>0</td>\n",
       "      <td>0</td>\n",
       "      <td>0</td>\n",
       "      <td>0</td>\n",
       "      <td>0</td>\n",
       "      <td>0</td>\n",
       "      <td>1</td>\n",
       "      <td>0</td>\n",
       "    </tr>\n",
       "  </tbody>\n",
       "</table>\n",
       "<p>5 rows × 54 columns</p>\n",
       "</div>"
      ],
      "text/plain": [
       "           Date     Price      Open      High       Low     Vol. Change %  \\\n",
       "1355 2020-04-03  3.529591  3.397524  3.555348  3.341093  541.28K   13.93%   \n",
       "1356 2020-04-06  3.498022  3.458208  3.533395  3.402197  296.07K   -3.11%   \n",
       "1357 2020-04-07  3.461665  3.516310  3.531641  3.457578  303.42K   -3.57%   \n",
       "1358 2020-04-08  3.491647  3.485232  3.522530  3.451257  320.61K    3.04%   \n",
       "1359 2020-04-09  3.460095  3.520461  3.594019  3.445533        -   -3.11%   \n",
       "\n",
       "      log_returns  IntradayRange  month_2  ...  day_26  day_27  day_28  \\\n",
       "1355     0.130395       0.214255        0  ...       0       0       0   \n",
       "1356    -0.031569       0.131198        0  ...       0       0       0   \n",
       "1357    -0.036356       0.074063        0  ...       0       0       0   \n",
       "1358     0.029982       0.071273        0  ...       0       0       0   \n",
       "1359    -0.031552       0.148486        0  ...       0       0       0   \n",
       "\n",
       "      day_29  day_30  day_31  weekday_1  weekday_2  weekday_3  weekday_4  \n",
       "1355       0       0       0          0          0          0          1  \n",
       "1356       0       0       0          0          0          0          0  \n",
       "1357       0       0       0          1          0          0          0  \n",
       "1358       0       0       0          0          1          0          0  \n",
       "1359       0       0       0          0          0          1          0  \n",
       "\n",
       "[5 rows x 54 columns]"
      ]
     },
     "execution_count": 21,
     "metadata": {},
     "output_type": "execute_result"
    }
   ],
   "source": [
    "fullpath = f\"../data/Brent Oil Futures Historical Data.csv\" #dataset\n",
    "df = pd.read_csv(fullpath)\n",
    "df = clean(df)\n",
    "df2 = transformDF(clean(df))[1]\n",
    "df2.tail()"
   ]
  },
  {
   "cell_type": "markdown",
   "metadata": {},
   "source": [
    "**Read in your exogenous/explanatory/correlated variable time series dataset**\n",
    "\n",
    "In this case we use US 10 Year Futures, give your exog features a unique name"
   ]
  },
  {
   "cell_type": "code",
   "execution_count": 22,
   "metadata": {},
   "outputs": [
    {
     "name": "stdout",
     "output_type": "stream",
     "text": [
      "ADDED FEATURES - COMPLETE\n",
      "--------------------\n"
     ]
    },
    {
     "data": {
      "text/html": [
       "<div>\n",
       "<style scoped>\n",
       "    .dataframe tbody tr th:only-of-type {\n",
       "        vertical-align: middle;\n",
       "    }\n",
       "\n",
       "    .dataframe tbody tr th {\n",
       "        vertical-align: top;\n",
       "    }\n",
       "\n",
       "    .dataframe thead th {\n",
       "        text-align: right;\n",
       "    }\n",
       "</style>\n",
       "<table border=\"1\" class=\"dataframe\">\n",
       "  <thead>\n",
       "    <tr style=\"text-align: right;\">\n",
       "      <th></th>\n",
       "      <th>Date</th>\n",
       "      <th>US_10_Year_T_Note_Futures_Price</th>\n",
       "      <th>returns</th>\n",
       "      <th>log_returns</th>\n",
       "      <th>month</th>\n",
       "      <th>day</th>\n",
       "      <th>weekday</th>\n",
       "    </tr>\n",
       "  </thead>\n",
       "  <tbody>\n",
       "    <tr>\n",
       "      <th>1387</th>\n",
       "      <td>2020-04-06</td>\n",
       "      <td>4.930220</td>\n",
       "      <td>-0.005247</td>\n",
       "      <td>-0.005260</td>\n",
       "      <td>4</td>\n",
       "      <td>6</td>\n",
       "      <td>0</td>\n",
       "    </tr>\n",
       "    <tr>\n",
       "      <th>1388</th>\n",
       "      <td>2020-04-07</td>\n",
       "      <td>4.926601</td>\n",
       "      <td>-0.003612</td>\n",
       "      <td>-0.003619</td>\n",
       "      <td>4</td>\n",
       "      <td>7</td>\n",
       "      <td>1</td>\n",
       "    </tr>\n",
       "    <tr>\n",
       "      <th>1389</th>\n",
       "      <td>2020-04-08</td>\n",
       "      <td>4.926094</td>\n",
       "      <td>-0.000508</td>\n",
       "      <td>-0.000508</td>\n",
       "      <td>4</td>\n",
       "      <td>8</td>\n",
       "      <td>2</td>\n",
       "    </tr>\n",
       "    <tr>\n",
       "      <th>1390</th>\n",
       "      <td>2020-04-09</td>\n",
       "      <td>4.928557</td>\n",
       "      <td>0.002467</td>\n",
       "      <td>0.002464</td>\n",
       "      <td>4</td>\n",
       "      <td>9</td>\n",
       "      <td>3</td>\n",
       "    </tr>\n",
       "    <tr>\n",
       "      <th>1391</th>\n",
       "      <td>2020-04-10</td>\n",
       "      <td>4.928485</td>\n",
       "      <td>-0.000072</td>\n",
       "      <td>-0.000072</td>\n",
       "      <td>4</td>\n",
       "      <td>10</td>\n",
       "      <td>4</td>\n",
       "    </tr>\n",
       "  </tbody>\n",
       "</table>\n",
       "</div>"
      ],
      "text/plain": [
       "           Date  US_10_Year_T_Note_Futures_Price   returns  log_returns  \\\n",
       "1387 2020-04-06                         4.930220 -0.005247    -0.005260   \n",
       "1388 2020-04-07                         4.926601 -0.003612    -0.003619   \n",
       "1389 2020-04-08                         4.926094 -0.000508    -0.000508   \n",
       "1390 2020-04-09                         4.928557  0.002467     0.002464   \n",
       "1391 2020-04-10                         4.928485 -0.000072    -0.000072   \n",
       "\n",
       "      month  day  weekday  \n",
       "1387      4    6        0  \n",
       "1388      4    7        1  \n",
       "1389      4    8        2  \n",
       "1390      4    9        3  \n",
       "1391      4   10        4  "
      ]
     },
     "execution_count": 22,
     "metadata": {},
     "output_type": "execute_result"
    }
   ],
   "source": [
    "#give your exog features a name\n",
    "exog_name = 'US_10_Year_T_Note_Futures_Price'\n",
    "\n",
    "exogenous = pd.read_csv('../data/US 10 Year T-Note Futures Historical Data.csv')\n",
    "exogenous = exogenous[['Date','Price']]\n",
    "exogenous = transformDF(clean(exogenous))[0]\n",
    "exogenous.columns = ['Date',exog_name]+list(exogenous.columns[2:])\n",
    "\n",
    "#this merges your exog and endog variables\n",
    "df3 = pd.merge(df2,exogenous[['Date',exog_name]],how='inner',on='Date')\n",
    "exogenous.tail()"
   ]
  },
  {
   "cell_type": "markdown",
   "metadata": {},
   "source": [
    "**Select the features you want by Shift + Click**"
   ]
  },
  {
   "cell_type": "code",
   "execution_count": 23,
   "metadata": {
    "scrolled": true
   },
   "outputs": [
    {
     "data": {
      "application/vnd.jupyter.widget-view+json": {
       "model_id": "ee5f4617fd1243c3a4f0b9e9b1a80f96",
       "version_major": 2,
       "version_minor": 0
      },
      "text/plain": [
       "SelectMultiple(description='Variables', index=(53,), options=('Price', 'Open', 'High', 'Low', 'Vol.', 'Change …"
      ]
     },
     "metadata": {},
     "output_type": "display_data"
    }
   ],
   "source": [
    "featsToUse = makeWidget(df3,exog_name)\n",
    "featsToUse"
   ]
  },
  {
   "cell_type": "markdown",
   "metadata": {},
   "source": [
    "**1. Fit a OLS**\n",
    "\n",
    "**2. Determine if residuals deviate significantly using empirical CDF of all residuals**"
   ]
  },
  {
   "cell_type": "code",
   "execution_count": 18,
   "metadata": {},
   "outputs": [
    {
     "name": "stderr",
     "output_type": "stream",
     "text": [
      "invalid value encountered in greater_equal\n",
      "invalid value encountered in less_equal\n"
     ]
    },
    {
     "data": {
      "text/html": [
       "<table class=\"simpletable\">\n",
       "<caption>OLS Regression Results</caption>\n",
       "<tr>\n",
       "  <th>Dep. Variable:</th>          <td>Price</td>      <th>  R-squared:         </th> <td>   0.464</td> \n",
       "</tr>\n",
       "<tr>\n",
       "  <th>Model:</th>                   <td>OLS</td>       <th>  Adj. R-squared:    </th> <td>   0.464</td> \n",
       "</tr>\n",
       "<tr>\n",
       "  <th>Method:</th>             <td>Least Squares</td>  <th>  F-statistic:       </th> <td>   1173.</td> \n",
       "</tr>\n",
       "<tr>\n",
       "  <th>Date:</th>             <td>Sun, 12 Apr 2020</td> <th>  Prob (F-statistic):</th> <td>8.40e-186</td>\n",
       "</tr>\n",
       "<tr>\n",
       "  <th>Time:</th>                 <td>11:42:18</td>     <th>  Log-Likelihood:    </th> <td>  572.24</td> \n",
       "</tr>\n",
       "<tr>\n",
       "  <th>No. Observations:</th>      <td>  1358</td>      <th>  AIC:               </th> <td>  -1140.</td> \n",
       "</tr>\n",
       "<tr>\n",
       "  <th>Df Residuals:</th>          <td>  1356</td>      <th>  BIC:               </th> <td>  -1130.</td> \n",
       "</tr>\n",
       "<tr>\n",
       "  <th>Df Model:</th>              <td>     1</td>      <th>                     </th>     <td> </td>    \n",
       "</tr>\n",
       "<tr>\n",
       "  <th>Covariance Type:</th>      <td>nonrobust</td>    <th>                     </th>     <td> </td>    \n",
       "</tr>\n",
       "</table>\n",
       "<table class=\"simpletable\">\n",
       "<tr>\n",
       "                 <td></td>                    <th>coef</th>     <th>std err</th>      <th>t</th>      <th>P>|t|</th>  <th>[0.025</th>    <th>0.975]</th>  \n",
       "</tr>\n",
       "<tr>\n",
       "  <th>const</th>                           <td>   25.6138</td> <td>    0.630</td> <td>   40.646</td> <td> 0.000</td> <td>   24.378</td> <td>   26.850</td>\n",
       "</tr>\n",
       "<tr>\n",
       "  <th>US_10_Year_T_Note_Futures_Price</th> <td>   -4.4616</td> <td>    0.130</td> <td>  -34.255</td> <td> 0.000</td> <td>   -4.717</td> <td>   -4.206</td>\n",
       "</tr>\n",
       "</table>\n",
       "<table class=\"simpletable\">\n",
       "<tr>\n",
       "  <th>Omnibus:</th>       <td>145.264</td> <th>  Durbin-Watson:     </th> <td>   0.033</td>\n",
       "</tr>\n",
       "<tr>\n",
       "  <th>Prob(Omnibus):</th> <td> 0.000</td>  <th>  Jarque-Bera (JB):  </th> <td> 206.931</td>\n",
       "</tr>\n",
       "<tr>\n",
       "  <th>Skew:</th>          <td>-0.804</td>  <th>  Prob(JB):          </th> <td>1.16e-45</td>\n",
       "</tr>\n",
       "<tr>\n",
       "  <th>Kurtosis:</th>      <td> 4.035</td>  <th>  Cond. No.          </th> <td>    737.</td>\n",
       "</tr>\n",
       "</table><br/><br/>Warnings:<br/>[1] Standard Errors assume that the covariance matrix of the errors is correctly specified."
      ],
      "text/plain": [
       "<class 'statsmodels.iolib.summary.Summary'>\n",
       "\"\"\"\n",
       "                            OLS Regression Results                            \n",
       "==============================================================================\n",
       "Dep. Variable:                  Price   R-squared:                       0.464\n",
       "Model:                            OLS   Adj. R-squared:                  0.464\n",
       "Method:                 Least Squares   F-statistic:                     1173.\n",
       "Date:                Sun, 12 Apr 2020   Prob (F-statistic):          8.40e-186\n",
       "Time:                        11:42:18   Log-Likelihood:                 572.24\n",
       "No. Observations:                1358   AIC:                            -1140.\n",
       "Df Residuals:                    1356   BIC:                            -1130.\n",
       "Df Model:                           1                                         \n",
       "Covariance Type:            nonrobust                                         \n",
       "===================================================================================================\n",
       "                                      coef    std err          t      P>|t|      [0.025      0.975]\n",
       "---------------------------------------------------------------------------------------------------\n",
       "const                              25.6138      0.630     40.646      0.000      24.378      26.850\n",
       "US_10_Year_T_Note_Futures_Price    -4.4616      0.130    -34.255      0.000      -4.717      -4.206\n",
       "==============================================================================\n",
       "Omnibus:                      145.264   Durbin-Watson:                   0.033\n",
       "Prob(Omnibus):                  0.000   Jarque-Bera (JB):              206.931\n",
       "Skew:                          -0.804   Prob(JB):                     1.16e-45\n",
       "Kurtosis:                       4.035   Cond. No.                         737.\n",
       "==============================================================================\n",
       "\n",
       "Warnings:\n",
       "[1] Standard Errors assume that the covariance matrix of the errors is correctly specified.\n",
       "\"\"\""
      ]
     },
     "execution_count": 18,
     "metadata": {},
     "output_type": "execute_result"
    },
    {
     "data": {
      "image/png": "[encoded data removed]",
      "text/plain": [
       "<Figure size 1440x360 with 3 Axes>"
      ]
     },
     "metadata": {},
     "output_type": "display_data"
    }
   ],
   "source": [
    "X = add_constant(df3[list(featsToUse.value)])\n",
    "y = df3['Price'].shift(-1)\n",
    "linear_reg = OLS(y.iloc[:-1],X.iloc[:-1]).fit()\n",
    "fig, ax = plt.subplots(figsize=(20,5),ncols=3)\n",
    "sns.regplot(X.iloc[:,1],y,ax=ax[0])\n",
    "ax[1].plot((y-linear_reg.predict(X)))\n",
    "ax[2].hist((y-linear_reg.predict(X)))\n",
    "ax[0].set_title('Regression')\n",
    "ax[1].set_title('Residuals')\n",
    "ax[2].set_title('Residual Distribution')\n",
    "linear_reg.summary()"
   ]
  },
  {
   "cell_type": "code",
   "execution_count": 20,
   "metadata": {},
   "outputs": [
    {
     "name": "stdout",
     "output_type": "stream",
     "text": [
      "ANALYSIS\n",
      "------------------\n",
      "The residual of OLS fit is: -0.17530\n",
      "The observed residual is in the 11.69978% quintile\n",
      "The last observed value (137.84) of Brent Oil Futures is UNDERVALUED\n",
      "Based on FACTOR: US_10_Year_T_Note_Futures_Price \n"
     ]
    }
   ],
   "source": [
    "from statsmodels.distributions.empirical_distribution import ECDF\n",
    "ecdf = ECDF(y-linear_reg.predict(X))\n",
    "residual = y.iloc[-2]-linear_reg.predict(X.iloc[-2].values)[0]\n",
    "pval = ecdf(residual)\n",
    "print(\"ANALYSIS\")\n",
    "print(\"------------------\")\n",
    "print(f\"The residual of OLS fit is: {residual:.5f}\")\n",
    "print(f\"The observed residual is in the {100*pval:.5f}% quintile\")\n",
    "if residual < 0.5:\n",
    "    print(f\"The last observed value ({np.exp(X.iloc[-2,1]):.2f}) of {datasets.value} is UNDERVALUED\")\n",
    "else:\n",
    "    print(f\"the last observed value of {datasets.value} OVERVALUED\")\n",
    "print(f\"Based on FACTOR: {exog_name} \")"
   ]
  }
 ],
 "metadata": {
  "kernelspec": {
   "display_name": "Python 3",
   "language": "python",
   "name": "python3"
  },
  "language_info": {
   "codemirror_mode": {
    "name": "ipython",
    "version": 3
   },
   "file_extension": ".py",
   "mimetype": "text/x-python",
   "name": "python",
   "nbconvert_exporter": "python",
   "pygments_lexer": "ipython3",
   "version": "3.7.6"
  }
 },
 "nbformat": 4,
 "nbformat_minor": 4
}
